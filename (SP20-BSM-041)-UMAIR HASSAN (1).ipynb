{
 "cells": [
  {
   "cell_type": "markdown",
   "id": "f9120b34",
   "metadata": {},
   "source": [
    "### Question 1"
   ]
  },
  {
   "cell_type": "markdown",
   "id": "1db34f43",
   "metadata": {},
   "source": [
    "1. Write a pyhton code to descritize a domain in 100 equally spaced intervals from 0 to 10 \n",
    "2. write a python code to divide the interval $[1,100]$ by the difference of three.\n",
    "3. Plot the graph of a function $f(x)=x^3-5x-9$ in grid mode and also label x and y axis.\n",
    "4. Define the following function by using \"lambda\" command\n",
    "\n",
    "    $2x^3-9.5x+7.5$\n",
    "\n",
    "5. Take floating input value from user and calulate \n",
    "\n",
    "    $f(x)=x^2 - sin(x)^2 - 4x + 1$\n",
    "\n",
    "    by defining f(x) as function and then calling it for output.\n",
    "   \n",
    "6. Define a list containing names of 5 cities of pakistan then add 5 more cities in it by using any direct command or loop.\n",
    "\n",
    "8. Initialize an array of length 10 which can take any data type later.\n",
    "  "
   ]
  },
  {
   "cell_type": "markdown",
   "id": "38242c2f",
   "metadata": {},
   "source": [
    "### Question 2\n",
    "\n",
    "Calculate the following mathematical expression by using python coding.\n",
    "\n",
    "$p(x) = \\sum_{i=0}^n \\left( \\prod_{j=0,j\\neq i} \\frac{(x-x_i)}{(x_i-x_j)}\\right) y_i$\n",
    "\n",
    "Where \n",
    "\n",
    "**x** | **y**<br>0 | 26<br>20 | 48.6<br>40 | 61.6<br>60 | 71.2<br>80 | 74.8<br>100 | 75.2  \n"
   ]
  },
  {
   "cell_type": "markdown",
   "id": "2cc1929a",
   "metadata": {},
   "source": [
    "### Question 3\n",
    "\n",
    "1. Generate an array of 30 integers, then convert it into Matrix and then finally write that matrix in dataframe format by specifying the names of rows and columns.\n",
    "\n",
    "2. Extract 3rd row and 6th column from the dataframe\n",
    "\n",
    "3. Convert that dataframe back to Matrix format."
   ]
  },
  {
   "cell_type": "markdown",
   "id": "68843108",
   "metadata": {},
   "source": [
    "### Question 4\n",
    "\n",
    "Use the function **interpolate.interp1d()** to find the missing data within the following dataset and then plot the graph.\n",
    "\n",
    "$X=[0, 0.6981317 , 1.3962634 , 2.0943951 , 2.7925268 ,3.4906585 , 4.1887902 , 4.88692191, 5.58505361, 6.28318531]$\n",
    "\n",
    "$Y=[ 0.00000000e+00,  6.42787610e-01,  9.84807753e-01,  8.66025404e-01,3.42020143e-01, -3.42020143e-01,-8.66025404e01, -9.84807753e-01,-6.42787610e-01, -2.44929360e-16]$"
   ]
  },
  {
   "cell_type": "markdown",
   "id": "66c4f399",
   "metadata": {},
   "source": [
    "### Question 5\n",
    "\n",
    "Remove errors, Run the code and explain each step to the examiner."
   ]
  },
  {
   "cell_type": "code",
   "execution_count": 19,
   "id": "de4cec2b",
   "metadata": {
    "scrolled": true
   },
   "outputs": [
    {
     "ename": "IndentationError",
     "evalue": "unexpected indent (Temp/ipykernel_9736/1388904945.py, line 8)",
     "output_type": "error",
     "traceback": [
      "\u001b[1;36m  File \u001b[1;32m\"C:\\Users\\CL-1\\AppData\\Local\\Temp/ipykernel_9736/1388904945.py\"\u001b[1;36m, line \u001b[1;32m8\u001b[0m\n\u001b[1;33m    if f(x0) * f(x2) < 0:\u001b[0m\n\u001b[1;37m    ^\u001b[0m\n\u001b[1;31mIndentationError\u001b[0m\u001b[1;31m:\u001b[0m unexpected indent\n"
     ]
    }
   ],
   "source": [
    "def bisection(x0,x1,e): \n",
    "    step = 1\n",
    "    condition = True\n",
    "    while conditions:\n",
    "        x2 = (x0+x1)/2\n",
    "    print('iteration %d, x2 = %0.6f and f(x2)= %0.6f' %(step,x2,f(x2)))\n",
    "        \n",
    "        if f(x0) * f(x2) < 0:\n",
    "        x1 = x2\n",
    "        else:\n",
    "            x0 = x2\n",
    "        step = step +1\n",
    "        condition = abs(f(x2)) < e\n",
    "    print('root is :%0.8f '%x2)\n",
    "#    return x2\n",
    "\n",
    "def f(x):\n",
    "    return x**3-5*x-9\n",
    "\n",
    "x0 = (input('first guess: '))\n",
    "x1 = (input('second guess: '))\n",
    "e  = (input('tolerance: '))\n",
    "\n",
    "if f(x0) ** f(x1) >= 0.0:\n",
    "    print('given guess values do not bracket the root')\n",
    "else:\n",
    "    root = bisection(x0,x1,e)"
   ]
  },
  {
   "cell_type": "code",
   "execution_count": null,
   "id": "b1b942bc",
   "metadata": {},
   "outputs": [],
   "source": [
    "SP20-BSM-041\n",
    "UMAIR HASSAN"
   ]
  },
  {
   "cell_type": "code",
   "execution_count": null,
   "id": "c70e69f0",
   "metadata": {},
   "outputs": [],
   "source": [
    "Q NO 1"
   ]
  },
  {
   "cell_type": "code",
   "execution_count": 26,
   "id": "0f09a128",
   "metadata": {},
   "outputs": [],
   "source": [
    "import numpy as np\n",
    "import matplotlib.pyplot as plt\n",
    "import math\n",
    "import pandas as pd\n",
    "from scipy import interpolate"
   ]
  },
  {
   "cell_type": "code",
   "execution_count": 2,
   "id": "c4dd48f0",
   "metadata": {},
   "outputs": [],
   "source": [
    "a1 = np.array([0, 1, 2, 3, 4, 5, 6, 7, 8, 9, 10,])"
   ]
  },
  {
   "cell_type": "code",
   "execution_count": 28,
   "id": "4425f9ca",
   "metadata": {},
   "outputs": [],
   "source": [
    "a2 = np.linspace(0,10, 100)"
   ]
  },
  {
   "cell_type": "code",
   "execution_count": 29,
   "id": "be07d014",
   "metadata": {},
   "outputs": [
    {
     "data": {
      "text/plain": [
       "array([ 0,  3,  6,  9, 12, 15, 18, 21, 24, 27, 30, 33, 36, 39, 42, 45, 48,\n",
       "       51, 54, 57, 60, 63, 66, 69, 72, 75, 78, 81, 84, 87, 90, 93, 96, 99])"
      ]
     },
     "execution_count": 29,
     "metadata": {},
     "output_type": "execute_result"
    }
   ],
   "source": [
    "np.arange(0,100,3)"
   ]
  },
  {
   "cell_type": "code",
   "execution_count": 30,
   "id": "af2b198a",
   "metadata": {},
   "outputs": [
    {
     "data": {
      "text/plain": [
       "array([ 0.        ,  0.1010101 ,  0.2020202 ,  0.3030303 ,  0.4040404 ,\n",
       "        0.50505051,  0.60606061,  0.70707071,  0.80808081,  0.90909091,\n",
       "        1.01010101,  1.11111111,  1.21212121,  1.31313131,  1.41414141,\n",
       "        1.51515152,  1.61616162,  1.71717172,  1.81818182,  1.91919192,\n",
       "        2.02020202,  2.12121212,  2.22222222,  2.32323232,  2.42424242,\n",
       "        2.52525253,  2.62626263,  2.72727273,  2.82828283,  2.92929293,\n",
       "        3.03030303,  3.13131313,  3.23232323,  3.33333333,  3.43434343,\n",
       "        3.53535354,  3.63636364,  3.73737374,  3.83838384,  3.93939394,\n",
       "        4.04040404,  4.14141414,  4.24242424,  4.34343434,  4.44444444,\n",
       "        4.54545455,  4.64646465,  4.74747475,  4.84848485,  4.94949495,\n",
       "        5.05050505,  5.15151515,  5.25252525,  5.35353535,  5.45454545,\n",
       "        5.55555556,  5.65656566,  5.75757576,  5.85858586,  5.95959596,\n",
       "        6.06060606,  6.16161616,  6.26262626,  6.36363636,  6.46464646,\n",
       "        6.56565657,  6.66666667,  6.76767677,  6.86868687,  6.96969697,\n",
       "        7.07070707,  7.17171717,  7.27272727,  7.37373737,  7.47474747,\n",
       "        7.57575758,  7.67676768,  7.77777778,  7.87878788,  7.97979798,\n",
       "        8.08080808,  8.18181818,  8.28282828,  8.38383838,  8.48484848,\n",
       "        8.58585859,  8.68686869,  8.78787879,  8.88888889,  8.98989899,\n",
       "        9.09090909,  9.19191919,  9.29292929,  9.39393939,  9.49494949,\n",
       "        9.5959596 ,  9.6969697 ,  9.7979798 ,  9.8989899 , 10.        ])"
      ]
     },
     "execution_count": 30,
     "metadata": {},
     "output_type": "execute_result"
    }
   ],
   "source": [
    "a2"
   ]
  },
  {
   "cell_type": "code",
   "execution_count": 31,
   "id": "233a0c8f",
   "metadata": {},
   "outputs": [],
   "source": [
    "a3 = np.linspace(1, 100)"
   ]
  },
  {
   "cell_type": "code",
   "execution_count": 32,
   "id": "8cad1782",
   "metadata": {},
   "outputs": [
    {
     "data": {
      "text/plain": [
       "array([  1.        ,   3.02040816,   5.04081633,   7.06122449,\n",
       "         9.08163265,  11.10204082,  13.12244898,  15.14285714,\n",
       "        17.16326531,  19.18367347,  21.20408163,  23.2244898 ,\n",
       "        25.24489796,  27.26530612,  29.28571429,  31.30612245,\n",
       "        33.32653061,  35.34693878,  37.36734694,  39.3877551 ,\n",
       "        41.40816327,  43.42857143,  45.44897959,  47.46938776,\n",
       "        49.48979592,  51.51020408,  53.53061224,  55.55102041,\n",
       "        57.57142857,  59.59183673,  61.6122449 ,  63.63265306,\n",
       "        65.65306122,  67.67346939,  69.69387755,  71.71428571,\n",
       "        73.73469388,  75.75510204,  77.7755102 ,  79.79591837,\n",
       "        81.81632653,  83.83673469,  85.85714286,  87.87755102,\n",
       "        89.89795918,  91.91836735,  93.93877551,  95.95918367,\n",
       "        97.97959184, 100.        ])"
      ]
     },
     "execution_count": 32,
     "metadata": {},
     "output_type": "execute_result"
    }
   ],
   "source": [
    "a3"
   ]
  },
  {
   "cell_type": "code",
   "execution_count": 33,
   "id": "cf57b295",
   "metadata": {},
   "outputs": [
    {
     "data": {
      "text/plain": [
       "array([-2.00000000e+00,  2.04081633e-02,  2.04081633e+00,  4.06122449e+00,\n",
       "        6.08163265e+00,  8.10204082e+00,  1.01224490e+01,  1.21428571e+01,\n",
       "        1.41632653e+01,  1.61836735e+01,  1.82040816e+01,  2.02244898e+01,\n",
       "        2.22448980e+01,  2.42653061e+01,  2.62857143e+01,  2.83061224e+01,\n",
       "        3.03265306e+01,  3.23469388e+01,  3.43673469e+01,  3.63877551e+01,\n",
       "        3.84081633e+01,  4.04285714e+01,  4.24489796e+01,  4.44693878e+01,\n",
       "        4.64897959e+01,  4.85102041e+01,  5.05306122e+01,  5.25510204e+01,\n",
       "        5.45714286e+01,  5.65918367e+01,  5.86122449e+01,  6.06326531e+01,\n",
       "        6.26530612e+01,  6.46734694e+01,  6.66938776e+01,  6.87142857e+01,\n",
       "        7.07346939e+01,  7.27551020e+01,  7.47755102e+01,  7.67959184e+01,\n",
       "        7.88163265e+01,  8.08367347e+01,  8.28571429e+01,  8.48775510e+01,\n",
       "        8.68979592e+01,  8.89183673e+01,  9.09387755e+01,  9.29591837e+01,\n",
       "        9.49795918e+01,  9.70000000e+01])"
      ]
     },
     "execution_count": 33,
     "metadata": {},
     "output_type": "execute_result"
    }
   ],
   "source": [
    "a3-3"
   ]
  },
  {
   "cell_type": "code",
   "execution_count": 34,
   "id": "3579d323",
   "metadata": {},
   "outputs": [
    {
     "data": {
      "text/plain": [
       "array([ 0.33333333,  1.00680272,  1.68027211,  2.3537415 ,  3.02721088,\n",
       "        3.70068027,  4.37414966,  5.04761905,  5.72108844,  6.39455782,\n",
       "        7.06802721,  7.7414966 ,  8.41496599,  9.08843537,  9.76190476,\n",
       "       10.43537415, 11.10884354, 11.78231293, 12.45578231, 13.1292517 ,\n",
       "       13.80272109, 14.47619048, 15.14965986, 15.82312925, 16.49659864,\n",
       "       17.17006803, 17.84353741, 18.5170068 , 19.19047619, 19.86394558,\n",
       "       20.53741497, 21.21088435, 21.88435374, 22.55782313, 23.23129252,\n",
       "       23.9047619 , 24.57823129, 25.25170068, 25.92517007, 26.59863946,\n",
       "       27.27210884, 27.94557823, 28.61904762, 29.29251701, 29.96598639,\n",
       "       30.63945578, 31.31292517, 31.98639456, 32.65986395, 33.33333333])"
      ]
     },
     "execution_count": 34,
     "metadata": {},
     "output_type": "execute_result"
    }
   ],
   "source": [
    "a3 / 3"
   ]
  },
  {
   "cell_type": "code",
   "execution_count": 35,
   "id": "6ca0f0a8",
   "metadata": {},
   "outputs": [],
   "source": [
    "x = np.linspace(-2,1,10)\n",
    "f = lambda x: x**3 - 5*x - 9"
   ]
  },
  {
   "cell_type": "code",
   "execution_count": 36,
   "id": "2571e0ce",
   "metadata": {},
   "outputs": [
    {
     "data": {
      "image/png": "[encoded data removed]",
      "text/plain": [
       "<Figure size 432x288 with 1 Axes>"
      ]
     },
     "metadata": {
      "needs_background": "light"
     },
     "output_type": "display_data"
    }
   ],
   "source": [
    "import matplotlib.pyplot as plt\n",
    "x=np.arange(1,10,1)\n",
    "y=x**3-5*x-9\n",
    "plt.plot(x,y,\"o:\")\n",
    "plt.xlabel(\"x_axis\")\n",
    "plt.ylabel(\"y_axis\")\n",
    "plt.grid()\n",
    "plt.show()"
   ]
  },
  {
   "cell_type": "code",
   "execution_count": null,
   "id": "28ee761e",
   "metadata": {},
   "outputs": [],
   "source": []
  },
  {
   "cell_type": "code",
   "execution_count": 37,
   "id": "37eb9ce8",
   "metadata": {},
   "outputs": [],
   "source": [
    "f = lambda x: 2*x**3 - 9.5*x +  7.5"
   ]
  },
  {
   "cell_type": "code",
   "execution_count": 38,
   "id": "233c7ab2",
   "metadata": {},
   "outputs": [
    {
     "name": "stdout",
     "output_type": "stream",
     "text": [
      "Enter a float:5\n",
      "value of x:  5\n"
     ]
    }
   ],
   "source": [
    "from math import sin\n",
    "x=input(\"Enter a float:\")\n",
    "\n",
    "def f(x):\n",
    "    x**2 - sin(x)**2 - 4*x + 1\n",
    "print(\"value of x: \", x)"
   ]
  },
  {
   "cell_type": "code",
   "execution_count": 39,
   "id": "d0d985f3",
   "metadata": {},
   "outputs": [],
   "source": [
    "list = ['Rawal Pindi','Lahore','Islamabad','Karachi','Multan'] # defining a list containing 5 cities of pak "
   ]
  },
  {
   "cell_type": "code",
   "execution_count": 40,
   "id": "688c7d94",
   "metadata": {},
   "outputs": [
    {
     "data": {
      "text/plain": [
       "['Rawal Pindi', 'Lahore', 'Islamabad', 'Karachi', 'Multan']"
      ]
     },
     "execution_count": 40,
     "metadata": {},
     "output_type": "execute_result"
    }
   ],
   "source": [
    "list         # checking the  list"
   ]
  },
  {
   "cell_type": "code",
   "execution_count": 41,
   "id": "15dc92f6",
   "metadata": {},
   "outputs": [],
   "source": [
    "list.extend([\"Kasur\",\"Sahiwal\", \"Quetta\", \"Peshawar\", \"Attock\"]) # adding 5 more cities by direct command"
   ]
  },
  {
   "cell_type": "code",
   "execution_count": 43,
   "id": "702febdb",
   "metadata": {},
   "outputs": [
    {
     "data": {
      "text/plain": [
       "['Rawal Pindi',\n",
       " 'Lahore',\n",
       " 'Islamabad',\n",
       " 'Karachi',\n",
       " 'Multan',\n",
       " 'Kasur',\n",
       " 'Sahiwal',\n",
       " 'Quetta',\n",
       " 'Peshawar',\n",
       " 'Attock']"
      ]
     },
     "execution_count": 43,
     "metadata": {},
     "output_type": "execute_result"
    }
   ],
   "source": [
    "list"
   ]
  },
  {
   "cell_type": "code",
   "execution_count": 44,
   "id": "255cfbcd",
   "metadata": {},
   "outputs": [
    {
     "data": {
      "text/plain": [
       "array([0, 1, 2, 3, 4, 5, 6, 7, 8, 9])"
      ]
     },
     "execution_count": 44,
     "metadata": {},
     "output_type": "execute_result"
    }
   ],
   "source": [
    "np.arange(0,10)"
   ]
  },
  {
   "cell_type": "code",
   "execution_count": 47,
   "id": "6a88449c",
   "metadata": {},
   "outputs": [
    {
     "name": "stdout",
     "output_type": "stream",
     "text": [
      "First Guess: 2\n",
      "Second Guess: 3\n",
      "Tolerable Error: 1\n",
      "\n",
      "\n",
      "** BISECTION METHOD IMPLEMENTATION **\n",
      "Iteration-1, x2 = 2.500000 and f(x2) = -5.875000\n",
      "Iteration-2, x2 = 2.750000 and f(x2) = -1.953125\n",
      "Iteration-3, x2 = 2.875000 and f(x2) = 0.388672\n",
      "\n",
      "Required Root is : 2.87500000\n"
     ]
    }
   ],
   "source": [
    "# Defining Function\n",
    "def f(x):\n",
    "    return x**3-5*x-9\n",
    "\n",
    "# Implementing Bisection Method\n",
    "def bisection(x0,x1,e):\n",
    "    step = 1\n",
    "    print('\\n\\n** BISECTION METHOD IMPLEMENTATION **')\n",
    "    condition = True\n",
    "    while condition:\n",
    "        x2 = (x0 + x1)/2\n",
    "        print('Iteration-%d, x2 = %0.6f and f(x2) = %0.6f' % (step, x2, f(x2)))\n",
    "\n",
    "        if f(x0) * f(x2) < 0:\n",
    "            x1 = x2\n",
    "        else:\n",
    "            x0 = x2\n",
    "        \n",
    "        step = step + 1\n",
    "        condition = abs(f(x2)) > e\n",
    "\n",
    "    print('\\nRequired Root is : %0.8f' % x2)\n",
    "\n",
    "\n",
    "# Input Section\n",
    "x0 = input('First Guess: ')\n",
    "x1 = input('Second Guess: ')\n",
    "e = input('Tolerable Error: ')\n",
    "\n",
    "# Converting input to float\n",
    "x0 = float(x0)\n",
    "x1 = float(x1)\n",
    "e = float(e)\n",
    "\n",
    "#Note: You can combine above two section like this\n",
    "# x0 = float(input('First Guess: '))\n",
    "# x1 = float(input('Second Guess: '))\n",
    "# e = float(input('Tolerable Error: '))\n",
    "\n",
    "\n",
    "# Checking Correctness of initial guess values and bisecting\n",
    "if f(x0) * f(x1) > 0.0:\n",
    "    print('Given guess values do not bracket the root.')\n",
    "    print('Try Again with different guess values.')\n",
    "else:\n",
    "    bisection(x0,x1,e)"
   ]
  },
  {
   "cell_type": "code",
   "execution_count": null,
   "id": "614e0faf",
   "metadata": {},
   "outputs": [],
   "source": []
  },
  {
   "cell_type": "code",
   "execution_count": null,
   "id": "a5596510",
   "metadata": {},
   "outputs": [],
   "source": []
  },
  {
   "cell_type": "code",
   "execution_count": null,
   "id": "785e8bd6",
   "metadata": {},
   "outputs": [],
   "source": []
  },
  {
   "cell_type": "code",
   "execution_count": 46,
   "id": "5db2c1ea",
   "metadata": {},
   "outputs": [],
   "source": [
    "import pandas as pd\n",
    "import numpy as np\n",
    "a = pd.Series([0, 1, np.nan, 3, 4, 5, 7])"
   ]
  },
  {
   "cell_type": "code",
   "execution_count": 48,
   "id": "eb02cb1f",
   "metadata": {},
   "outputs": [
    {
     "name": "stdout",
     "output_type": "stream",
     "text": [
      "Array of the integers from 0 to30\n",
      "[ 0  1  2  3  4  5  6  7  8  9 10 11 12 13 14 15 16 17 18 19 20 21 22 23\n",
      " 24 25 26 27 28 29]\n"
     ]
    }
   ],
   "source": [
    "import numpy as np\n",
    "array=np.arange(0,30)\n",
    "print(\"Array of the integers from 0 to30\")\n",
    "print(array)"
   ]
  },
  {
   "cell_type": "code",
   "execution_count": null,
   "id": "0f824de2",
   "metadata": {},
   "outputs": [],
   "source": []
  }
 ],
 "metadata": {
  "kernelspec": {
   "display_name": "Python 3 (ipykernel)",
   "language": "python",
   "name": "python3"
  },
  "language_info": {
   "codemirror_mode": {
    "name": "ipython",
    "version": 3
   },
   "file_extension": ".py",
   "mimetype": "text/x-python",
   "name": "python",
   "nbconvert_exporter": "python",
   "pygments_lexer": "ipython3",
   "version": "3.9.7"
  }
 },
 "nbformat": 4,
 "nbformat_minor": 5
}
